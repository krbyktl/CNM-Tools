{
  "nbformat": 4,
  "nbformat_minor": 0,
  "metadata": {
    "colab": {
      "name": "ELISA4PLCurve.ipynb",
      "provenance": [],
      "collapsed_sections": [],
      "toc_visible": true
    },
    "kernelspec": {
      "name": "python3",
      "display_name": "Python 3"
    }
  },
  "cells": [
    {
      "cell_type": "markdown",
      "metadata": {
        "id": "HsVlZ6L3kKSu",
        "colab_type": "text"
      },
      "source": [
        "\n",
        "\n",
        "\n",
        "# 10162019 Substance P ELISA"
      ]
    },
    {
      "cell_type": "code",
      "metadata": {
        "id": "SeooVCSA7VEF",
        "colab_type": "code",
        "outputId": "5a9a211b-f12e-487f-d1df-8628391a0b83",
        "colab": {
          "base_uri": "https://localhost:8080/",
          "height": 221
        }
      },
      "source": [
        "#author: kleo1\n",
        "#date: 10162019\n",
        "#title: test Substance P ELISA\n",
        "\n",
        "import numpy as np\n",
        "import pandas as pd\n",
        "import seaborn as sns\n",
        "import numpy.random as npr\n",
        "import matplotlib.pyplot as plt\n",
        "from scipy.optimize import leastsq\n",
        "\n",
        "\n",
        "# inline plots\n",
        "%matplotlib inline\n",
        "\n",
        "\n",
        "# mount GDrive\n",
        "from google.colab import drive\n",
        "drive.mount('gdrive/')\n",
        "\n",
        "# ============================================================================\n",
        "# data loading\n",
        "# ============================================================================\n",
        "\n",
        "# PLEASE, SPECIFY YOUR PATH TO THE DATA HERE\n",
        "datapath = 'gdrive/My Drive/JHU CNM/Data/'\n",
        "\n",
        "# get the list of files to process\n",
        "file1 = '/'.join((datapath,'191004_subP.csv'))\n",
        "\n",
        "data = pd.read_csv(file1)\n",
        "\n",
        "data.head(5)"
      ],
      "execution_count": 0,
      "outputs": [
        {
          "output_type": "stream",
          "text": [
            "Drive already mounted at gdrive/; to attempt to forcibly remount, call drive.mount(\"gdrive/\", force_remount=True).\n"
          ],
          "name": "stdout"
        },
        {
          "output_type": "execute_result",
          "data": {
            "text/html": [
              "<div>\n",
              "<style scoped>\n",
              "    .dataframe tbody tr th:only-of-type {\n",
              "        vertical-align: middle;\n",
              "    }\n",
              "\n",
              "    .dataframe tbody tr th {\n",
              "        vertical-align: top;\n",
              "    }\n",
              "\n",
              "    .dataframe thead th {\n",
              "        text-align: right;\n",
              "    }\n",
              "</style>\n",
              "<table border=\"1\" class=\"dataframe\">\n",
              "  <thead>\n",
              "    <tr style=\"text-align: right;\">\n",
              "      <th></th>\n",
              "      <th>Conc</th>\n",
              "      <th>Avg Net Stnd OD</th>\n",
              "      <th>Allergic</th>\n",
              "      <th>Allergic 10x</th>\n",
              "      <th>Control</th>\n",
              "      <th>Control 10x</th>\n",
              "    </tr>\n",
              "  </thead>\n",
              "  <tbody>\n",
              "    <tr>\n",
              "      <th>0</th>\n",
              "      <td>10000.00</td>\n",
              "      <td>0.0580</td>\n",
              "      <td>0.1465</td>\n",
              "      <td>0.3815</td>\n",
              "      <td>0.1725</td>\n",
              "      <td>0.3975</td>\n",
              "    </tr>\n",
              "    <tr>\n",
              "      <th>1</th>\n",
              "      <td>2500.00</td>\n",
              "      <td>0.1220</td>\n",
              "      <td>0.1545</td>\n",
              "      <td>0.4085</td>\n",
              "      <td>0.1445</td>\n",
              "      <td>0.4335</td>\n",
              "    </tr>\n",
              "    <tr>\n",
              "      <th>2</th>\n",
              "      <td>625.00</td>\n",
              "      <td>0.2770</td>\n",
              "      <td>0.1455</td>\n",
              "      <td>0.4525</td>\n",
              "      <td>0.1815</td>\n",
              "      <td>0.4585</td>\n",
              "    </tr>\n",
              "    <tr>\n",
              "      <th>3</th>\n",
              "      <td>156.25</td>\n",
              "      <td>0.4355</td>\n",
              "      <td>NaN</td>\n",
              "      <td>NaN</td>\n",
              "      <td>NaN</td>\n",
              "      <td>NaN</td>\n",
              "    </tr>\n",
              "    <tr>\n",
              "      <th>4</th>\n",
              "      <td>39.06</td>\n",
              "      <td>0.5240</td>\n",
              "      <td>NaN</td>\n",
              "      <td>NaN</td>\n",
              "      <td>NaN</td>\n",
              "      <td>NaN</td>\n",
              "    </tr>\n",
              "  </tbody>\n",
              "</table>\n",
              "</div>"
            ],
            "text/plain": [
              "       Conc  Avg Net Stnd OD  Allergic  Allergic 10x  Control  Control 10x\n",
              "0  10000.00           0.0580    0.1465        0.3815   0.1725       0.3975\n",
              "1   2500.00           0.1220    0.1545        0.4085   0.1445       0.4335\n",
              "2    625.00           0.2770    0.1455        0.4525   0.1815       0.4585\n",
              "3    156.25           0.4355       NaN           NaN      NaN          NaN\n",
              "4     39.06           0.5240       NaN           NaN      NaN          NaN"
            ]
          },
          "metadata": {
            "tags": []
          },
          "execution_count": 13
        }
      ]
    },
    {
      "cell_type": "code",
      "metadata": {
        "id": "wQIHvK8rAdLD",
        "colab_type": "code",
        "colab": {}
      },
      "source": [
        "conc = data['Conc']\n",
        "od = data['Avg Net Stnd OD']\n",
        "alle = data['Allergic']\n",
        "all10x = data['Allergic 10x']\n",
        "cntl = data['Control']\n",
        "cntl10x = data['Control 10x']\n",
        "\n",
        "alle_m = np.mean(alle)\n",
        "all10x_m = np.mean(all10x)\n",
        "cntl_m = np.mean(cntl)\n",
        "cntl10x_m = np.mean(cntl10x)"
      ],
      "execution_count": 0,
      "outputs": []
    },
    {
      "cell_type": "code",
      "metadata": {
        "id": "PbC5M2Xq61AG",
        "colab_type": "code",
        "outputId": "74b0ac76-9b64-47b3-b52b-55959c2f9866",
        "colab": {
          "base_uri": "https://localhost:8080/",
          "height": 295
        }
      },
      "source": [
        "def logistic4(x, A, B, C, D):\n",
        "    \"\"\"4PL lgoistic equation.\"\"\"\n",
        "    return ((A-D)/(1.0+((x/C)**B))) + D\n",
        "\n",
        "def residuals(p, y, x):\n",
        "    \"\"\"Deviations of data from fitted 4PL curve\"\"\"\n",
        "    A,B,C,D = p\n",
        "    err = y-logistic4(x, A, B, C, D)\n",
        "    return err\n",
        "\n",
        "def peval(x, p):\n",
        "    \"\"\"Evaluated value at x with current parameters.\"\"\"\n",
        "    A,B,C,D = p\n",
        "    return logistic4(x, A, B, C, D)\n",
        "\n",
        "A,B,C,D = 0.55,1.01,548.11,0.03\n",
        "#A,B,C,D = 1,2,400,0.05\n",
        "y_true = logistic4(conc, A, B, C, D)\n",
        "\n",
        "# Initial guess for parameters\n",
        "p0 = [0, 1, 1, 1]\n",
        "\n",
        "# Fit equation using least squares optimization\n",
        "plsq = leastsq(residuals, p0, args=(od, conc))\n",
        "\n",
        "#Once A, B, C, D values have been found, run this function to determine concentration of your experimental\n",
        "def detconc(y, A, B, C, D):\n",
        "  return C*((A-D)/(y-D)-1**(1/B))\n",
        "\n",
        "Aconc = detconc(alle_m, A, B, C, D)\n",
        "A10conc = detconc(all10x_m, A, B, C, D)\n",
        "Cconc = detconc(cntl_m, A, B, C, D)\n",
        "C10conc = detconc(cntl10x_m, A, B, C, D)\n",
        "\n",
        "# Plot results\n",
        "#plt.plot(conc,peval(conc,plsq[0]),conc,od,'o',conc,y_true)\n",
        "plt.plot(conc,peval(conc,plsq[0]))\n",
        "plt.plot(conc,od,'o', label = '_nolegend_')\n",
        "plt.axhline(alle_m, color = 'r',linestyle = '--')\n",
        "plt.axhline(cntl_m, color = 'g',linestyle = '--')\n",
        "plt.axhline(all10x_m, color = 'r')\n",
        "plt.axhline(cntl10x_m, color = 'g')\n",
        "plt.title('Least-squares 4PL fit to ELISA Standard Curve')\n",
        "plt.xlabel('Substance P Concentration (pg/mL)')\n",
        "plt.ylabel('Average OD Value')\n",
        "\n",
        "#plt.legend(['Fit', 'Noisy', 'True'], loc='upper left')\n",
        "\n",
        "plt.legend(['Standard Curve Fit','Allergic = (%0.2f, %0.2f)'%(Aconc,alle_m),'Control = (%0.2f, %0.2f)'%(Cconc,cntl_m),'Allergic 10x = (%0.2f, %0.2f)'%(A10conc,all10x_m),'Control 10x = (%0.2f, %0.2f)'%(C10conc,cntl10x_m)], loc='right')\n",
        "\n",
        "\"\"\"for i, (param, actual, est) in enumerate(zip('ABCD', [A,B,C,D], plsq[0])):\n",
        "    plt.text(10, 3-i*0.5, '%s = %.2f, est(%s) = %.2f' % (param, actual, param, est))\"\"\"\n",
        "plt.savefig('1016subP.png', dpi = 300)"
      ],
      "execution_count": 0,
      "outputs": [
        {
          "output_type": "display_data",
          "data": {
            "image/png": "[encoded data removed]",
            "text/plain": [
              "<Figure size 432x288 with 1 Axes>"
            ]
          },
          "metadata": {
            "tags": []
          }
        }
      ]
    },
    {
      "cell_type": "code",
      "metadata": {
        "id": "Mm8DMNaBPqRs",
        "colab_type": "code",
        "outputId": "c9af217a-834e-4e67-dece-1f369549cf0d",
        "colab": {
          "base_uri": "https://localhost:8080/",
          "height": 85
        }
      },
      "source": [
        "allec = []\n",
        "all10xc = []\n",
        "cntlc = []\n",
        "cntl10xc = []\n",
        "\n",
        "for i in range(len(alle)):\n",
        "  allec.append(detconc(alle[i],A,B,C,D))\n",
        "  all10xc.append(detconc(all10x[i],A,B,C,D))\n",
        "  cntlc.append(detconc(cntl[i],A,B,C,D))\n",
        "  cntl10xc.append(detconc(cntl10x[i],A,B,C,D))\n",
        "print(allec)\n",
        "print(all10xc)\n",
        "print(cntlc)\n",
        "print(cntl10xc)"
      ],
      "execution_count": 0,
      "outputs": [
        {
          "output_type": "stream",
          "text": [
            "[1898.389570815451, 1741.1847791164662, 1919.5713852813856, nan, nan, nan, nan]\n",
            "[262.7497439544808, 204.90770145310452, 126.48692307692312, nan, nan, nan, nan]\n",
            "[1452.0107017543862, 1941.1231877729263, 1333.1916501650167, nan, nan, nan, nan]\n",
            "[227.44700680272098, 158.25232961586136, 117.04099183197206, nan, nan, nan, nan]\n"
          ],
          "name": "stdout"
        }
      ]
    },
    {
      "cell_type": "markdown",
      "metadata": {
        "id": "6gsK9z8NkWNA",
        "colab_type": "text"
      },
      "source": [
        "# 10292019 Histamine ELISA"
      ]
    },
    {
      "cell_type": "code",
      "metadata": {
        "id": "zf5cSqTWPjmh",
        "colab_type": "code",
        "outputId": "d85ccff4-4dd0-4013-b8dc-e3498f7cf8bd",
        "colab": {
          "base_uri": "https://localhost:8080/",
          "height": 221
        }
      },
      "source": [
        "#author: kleo1\n",
        "#date: 10292019\n",
        "#title: Histamine ELISA\n",
        "\n",
        "import numpy as np\n",
        "import pandas as pd\n",
        "import seaborn as sns\n",
        "import numpy.random as npr\n",
        "import matplotlib.pyplot as plt\n",
        "from scipy.optimize import leastsq\n",
        "\n",
        "\n",
        "# inline plots\n",
        "%matplotlib inline\n",
        "\n",
        "\n",
        "# mount GDrive\n",
        "from google.colab import drive\n",
        "drive.mount('gdrive/')\n",
        "\n",
        "# ============================================================================\n",
        "# data loading\n",
        "# ============================================================================\n",
        "\n",
        "# PLEASE, SPECIFY YOUR PATH TO THE DATA HERE\n",
        "datapath = 'gdrive/My Drive/JHU CNM/Data/'\n",
        "\n",
        "# get the list of files to process\n",
        "file1 = '/'.join((datapath,'191029_histamine.csv'))\n",
        "\n",
        "data = pd.read_csv(file1)\n",
        "\n",
        "data.head(5)"
      ],
      "execution_count": 0,
      "outputs": [
        {
          "output_type": "stream",
          "text": [
            "Drive already mounted at gdrive/; to attempt to forcibly remount, call drive.mount(\"gdrive/\", force_remount=True).\n"
          ],
          "name": "stdout"
        },
        {
          "output_type": "execute_result",
          "data": {
            "text/html": [
              "<div>\n",
              "<style scoped>\n",
              "    .dataframe tbody tr th:only-of-type {\n",
              "        vertical-align: middle;\n",
              "    }\n",
              "\n",
              "    .dataframe tbody tr th {\n",
              "        vertical-align: top;\n",
              "    }\n",
              "\n",
              "    .dataframe thead th {\n",
              "        text-align: right;\n",
              "    }\n",
              "</style>\n",
              "<table border=\"1\" class=\"dataframe\">\n",
              "  <thead>\n",
              "    <tr style=\"text-align: right;\">\n",
              "      <th></th>\n",
              "      <th>conc(ng/mL)</th>\n",
              "      <th>Avg Net Stnd OD</th>\n",
              "      <th>Control</th>\n",
              "      <th>Allergic</th>\n",
              "      <th>Pazeo</th>\n",
              "      <th>Olopatadine</th>\n",
              "    </tr>\n",
              "  </thead>\n",
              "  <tbody>\n",
              "    <tr>\n",
              "      <th>0</th>\n",
              "      <td>25.000</td>\n",
              "      <td>0.5000</td>\n",
              "      <td>1.1015</td>\n",
              "      <td>1.1335</td>\n",
              "      <td>0.7925</td>\n",
              "      <td>1.0415</td>\n",
              "    </tr>\n",
              "    <tr>\n",
              "      <th>1</th>\n",
              "      <td>6.250</td>\n",
              "      <td>0.4350</td>\n",
              "      <td>1.2745</td>\n",
              "      <td>0.9385</td>\n",
              "      <td>1.2115</td>\n",
              "      <td>1.1455</td>\n",
              "    </tr>\n",
              "    <tr>\n",
              "      <th>2</th>\n",
              "      <td>1.563</td>\n",
              "      <td>1.0355</td>\n",
              "      <td>1.1245</td>\n",
              "      <td>0.9435</td>\n",
              "      <td>1.3205</td>\n",
              "      <td>1.0865</td>\n",
              "    </tr>\n",
              "    <tr>\n",
              "      <th>3</th>\n",
              "      <td>0.391</td>\n",
              "      <td>1.2995</td>\n",
              "      <td>1.1605</td>\n",
              "      <td>0.8855</td>\n",
              "      <td>1.0145</td>\n",
              "      <td>0.9725</td>\n",
              "    </tr>\n",
              "    <tr>\n",
              "      <th>4</th>\n",
              "      <td>0.098</td>\n",
              "      <td>1.7700</td>\n",
              "      <td>1.2015</td>\n",
              "      <td>0.8705</td>\n",
              "      <td>1.0725</td>\n",
              "      <td>0.9865</td>\n",
              "    </tr>\n",
              "  </tbody>\n",
              "</table>\n",
              "</div>"
            ],
            "text/plain": [
              "   conc(ng/mL)  Avg Net Stnd OD  Control  Allergic   Pazeo  Olopatadine\n",
              "0       25.000           0.5000   1.1015    1.1335  0.7925       1.0415\n",
              "1        6.250           0.4350   1.2745    0.9385  1.2115       1.1455\n",
              "2        1.563           1.0355   1.1245    0.9435  1.3205       1.0865\n",
              "3        0.391           1.2995   1.1605    0.8855  1.0145       0.9725\n",
              "4        0.098           1.7700   1.2015    0.8705  1.0725       0.9865"
            ]
          },
          "metadata": {
            "tags": []
          },
          "execution_count": 6
        }
      ]
    },
    {
      "cell_type": "code",
      "metadata": {
        "id": "E6CrL-f2Uv64",
        "colab_type": "code",
        "colab": {}
      },
      "source": [
        "conc = data['conc(ng/mL)']\n",
        "od = data['Avg Net Stnd OD']\n",
        "alle = data['Allergic']\n",
        "paz = data['Pazeo']\n",
        "cntl = data['Control']\n",
        "olo = data['Olopatadine']\n",
        "\n",
        "alle_m = np.mean(alle)\n",
        "paz_m = np.mean(paz)\n",
        "cntl_m = np.mean(cntl)\n",
        "olo_m = np.mean(olo)"
      ],
      "execution_count": 0,
      "outputs": []
    },
    {
      "cell_type": "code",
      "metadata": {
        "id": "skGzU2IWVQMF",
        "colab_type": "code",
        "outputId": "6bfa49ab-87a7-48bd-b6a4-7fabe00dbcb9",
        "colab": {
          "base_uri": "https://localhost:8080/",
          "height": 295
        }
      },
      "source": [
        "def logistic4(x, A, B, C, D):\n",
        "    \"\"\"4PL lgoistic equation.\"\"\"\n",
        "    return ((A-D)/(1.0+((x/C)**B))) + D\n",
        "\n",
        "def residuals(p, y, x):\n",
        "    \"\"\"Deviations of data from fitted 4PL curve\"\"\"\n",
        "    A,B,C,D = p\n",
        "    err = y-logistic4(x, A, B, C, D)\n",
        "    return err\n",
        "\n",
        "def peval(x, p):\n",
        "    \"\"\"Evaluated value at x with current parameters.\"\"\"\n",
        "    A,B,C,D = p\n",
        "    return logistic4(x, A, B, C, D)\n",
        "\n",
        "A,B,C,D = 1.81,1.05,0.94,0.39\n",
        "#A,B,C,D = 1,2,400,0.05\n",
        "y_true = logistic4(conc, A, B, C, D)\n",
        "\n",
        "# Initial guess for parameters\n",
        "p0 = [0, 1, 1, 1]\n",
        "\n",
        "# Fit equation using least squares optimization\n",
        "plsq = leastsq(residuals, p0, args=(od, conc))\n",
        "\n",
        "#Once A, B, C, D values have been found, run this function to determine concentration of your experimental\n",
        "def detconc(y, A, B, C, D):\n",
        "  return C*((A-D)/(y-D)-1**(1/B))\n",
        "\n",
        "Aconc = detconc(alle_m, A, B, C, D)\n",
        "pazconc = detconc(paz_m, A, B, C, D)\n",
        "Cconc = detconc(cntl_m, A, B, C, D)\n",
        "oloconc = detconc(olo_m, A, B, C, D)\n",
        "\n",
        "# Plot results\n",
        "#plt.plot(conc,peval(conc,plsq[0]),conc,od,'o',conc,y_true)\n",
        "plt.plot(conc,peval(conc,plsq[0]))\n",
        "plt.plot(conc,od,'o', label = '_nolegend_')\n",
        "plt.axhline(alle_m, color = 'r', linestyle = '--')\n",
        "plt.axhline(cntl_m, color = 'g', linestyle = '--')\n",
        "plt.axhline(paz_m, color = 'b', linestyle = '--')\n",
        "plt.axhline(olo_m, color = 'm', linestyle = '--')\n",
        "plt.title('Least-squares 4PL fit to ELISA Standard Curve')\n",
        "plt.xlabel('Histamine Concentration (ng/mL)')\n",
        "plt.ylabel('Average OD Value')\n",
        "\n",
        "#plt.legend(['Fit', 'Noisy', 'True'], loc='upper left')\n",
        "\n",
        "plt.legend(['Standard Curve Fit','Allergic = (%0.2f, %0.2f)'%(Aconc,alle_m),'Control = (%0.2f, %0.2f)'%(Cconc,cntl_m),'Pazeo = (%0.2f, %0.2f)'%(pazconc,paz_m),'Olopatadine F127 = (%0.2f, %0.2f)'%(oloconc,olo_m)], loc='right')\n",
        "\n",
        "\"\"\"for i, (param, actual, est) in enumerate(zip('ABCD', [A,B,C,D], plsq[0])):\n",
        "    plt.text(10, 3-i*0.5, '%s = %.2f, est(%s) = %.2f' % (param, actual, param, est))\"\"\"\n",
        "plt.savefig('1029his.png', dpi = 300)"
      ],
      "execution_count": 0,
      "outputs": [
        {
          "output_type": "display_data",
          "data": {
            "image/png": "[encoded data removed]",
            "text/plain": [
              "<Figure size 432x288 with 1 Axes>"
            ]
          },
          "metadata": {
            "tags": []
          }
        }
      ]
    },
    {
      "cell_type": "code",
      "metadata": {
        "id": "xvgT945zj2or",
        "colab_type": "code",
        "outputId": "d12c36b4-38a1-4d10-d073-37fc50cf0b19",
        "colab": {
          "base_uri": "https://localhost:8080/",
          "height": 85
        }
      },
      "source": [
        "allec = []\n",
        "pazc = []\n",
        "cntlc = []\n",
        "oloc = []\n",
        "\n",
        "for i in range(len(alle)):\n",
        "  allec.append(detconc(alle[i],A,B,C,D))\n",
        "  pazc.append(detconc(paz[i],A,B,C,D))\n",
        "  cntlc.append(detconc(cntl[i],A,B,C,D))\n",
        "  oloc.append(detconc(olo[i],A,B,C,D))\n",
        "print(allec)\n",
        "print(pazc)\n",
        "print(cntlc)\n",
        "print(oloc)"
      ],
      "execution_count": 0,
      "outputs": [
        {
          "output_type": "stream",
          "text": [
            "[0.8552925353059853, 1.493546034639927, 1.4715627822944897, 1.7538446014127145, 1.8379396462018724, 4.068630393996248]\n",
            "[2.376273291925466, 0.6848326232501519, 0.4944975819451908, 1.1973899119295437, 1.0157509157509155, nan]\n",
            "[0.9360365425158118, 0.5691011871113624, 0.8772906739278418, 0.7923815704088252, 0.7048552064078866, 0.8897464016449622]\n",
            "[1.1088104374520336, 0.8267769688947717, 0.9764393395549172, 1.3515021459227468, 1.2977200335289185, 1.4628802880288028]\n"
          ],
          "name": "stdout"
        }
      ]
    },
    {
      "cell_type": "markdown",
      "metadata": {
        "id": "o8wvi34mqyQm",
        "colab_type": "text"
      },
      "source": [
        "# 10292019 Substance P ELISA\n"
      ]
    },
    {
      "cell_type": "code",
      "metadata": {
        "id": "9uSgttmyq2jn",
        "colab_type": "code",
        "outputId": "8f1a012c-2539-4c80-e094-7e829b884de5",
        "colab": {
          "base_uri": "https://localhost:8080/",
          "height": 309
        }
      },
      "source": [
        "#author: kleo1\n",
        "#date: 10292019\n",
        "#title: Histamine ELISA\n",
        "\n",
        "import numpy as np\n",
        "import pandas as pd\n",
        "import seaborn as sns\n",
        "import numpy.random as npr\n",
        "import matplotlib.pyplot as plt\n",
        "from scipy.optimize import leastsq\n",
        "\n",
        "\n",
        "# inline plots\n",
        "%matplotlib inline\n",
        "\n",
        "\n",
        "# mount GDrive\n",
        "from google.colab import drive\n",
        "drive.mount('gdrive/')\n",
        "\n",
        "# ============================================================================\n",
        "# data loading\n",
        "# ============================================================================\n",
        "\n",
        "# PLEASE, SPECIFY YOUR PATH TO THE DATA HERE\n",
        "datapath = 'gdrive/My Drive/JHU CNM/Data/'\n",
        "\n",
        "# get the list of files to process\n",
        "file1 = '/'.join((datapath,'191029_subp.csv'))\n",
        "\n",
        "data = pd.read_csv(file1)\n",
        "\n",
        "data.head(5)"
      ],
      "execution_count": 0,
      "outputs": [
        {
          "output_type": "stream",
          "text": [
            "Go to this URL in a browser: https://accounts.google.com/o/oauth2/auth?client_id=947318989803-6bn6qk8qdgf4n4g3pfee6491hc0brc4i.apps.googleusercontent.com&redirect_uri=urn%3Aietf%3Awg%3Aoauth%3A2.0%3Aoob&scope=email%20https%3A%2F%2Fwww.googleapis.com%2Fauth%2Fdocs.test%20https%3A%2F%2Fwww.googleapis.com%2Fauth%2Fdrive%20https%3A%2F%2Fwww.googleapis.com%2Fauth%2Fdrive.photos.readonly%20https%3A%2F%2Fwww.googleapis.com%2Fauth%2Fpeopleapi.readonly&response_type=code\n",
            "\n",
            "Enter your authorization code:\n",
            "··········\n",
            "Mounted at gdrive/\n"
          ],
          "name": "stdout"
        },
        {
          "output_type": "execute_result",
          "data": {
            "text/html": [
              "<div>\n",
              "<style scoped>\n",
              "    .dataframe tbody tr th:only-of-type {\n",
              "        vertical-align: middle;\n",
              "    }\n",
              "\n",
              "    .dataframe tbody tr th {\n",
              "        vertical-align: top;\n",
              "    }\n",
              "\n",
              "    .dataframe thead th {\n",
              "        text-align: right;\n",
              "    }\n",
              "</style>\n",
              "<table border=\"1\" class=\"dataframe\">\n",
              "  <thead>\n",
              "    <tr style=\"text-align: right;\">\n",
              "      <th></th>\n",
              "      <th>conc(pg/mL)</th>\n",
              "      <th>Avg Net Stnd OD</th>\n",
              "      <th>Control</th>\n",
              "      <th>Allergic</th>\n",
              "      <th>Pazeo</th>\n",
              "      <th>Olopatadine</th>\n",
              "    </tr>\n",
              "  </thead>\n",
              "  <tbody>\n",
              "    <tr>\n",
              "      <th>0</th>\n",
              "      <td>10000.00</td>\n",
              "      <td>0.0305</td>\n",
              "      <td>0.125</td>\n",
              "      <td>0.134</td>\n",
              "      <td>0.107</td>\n",
              "      <td>0.117</td>\n",
              "    </tr>\n",
              "    <tr>\n",
              "      <th>1</th>\n",
              "      <td>2500.00</td>\n",
              "      <td>0.0760</td>\n",
              "      <td>0.153</td>\n",
              "      <td>0.098</td>\n",
              "      <td>0.125</td>\n",
              "      <td>0.112</td>\n",
              "    </tr>\n",
              "    <tr>\n",
              "      <th>2</th>\n",
              "      <td>625.00</td>\n",
              "      <td>0.1455</td>\n",
              "      <td>0.126</td>\n",
              "      <td>0.117</td>\n",
              "      <td>0.097</td>\n",
              "      <td>0.157</td>\n",
              "    </tr>\n",
              "    <tr>\n",
              "      <th>3</th>\n",
              "      <td>156.25</td>\n",
              "      <td>0.1860</td>\n",
              "      <td>0.145</td>\n",
              "      <td>0.094</td>\n",
              "      <td>0.097</td>\n",
              "      <td>0.125</td>\n",
              "    </tr>\n",
              "    <tr>\n",
              "      <th>4</th>\n",
              "      <td>39.06</td>\n",
              "      <td>0.2995</td>\n",
              "      <td>0.127</td>\n",
              "      <td>0.111</td>\n",
              "      <td>0.133</td>\n",
              "      <td>0.124</td>\n",
              "    </tr>\n",
              "  </tbody>\n",
              "</table>\n",
              "</div>"
            ],
            "text/plain": [
              "   conc(pg/mL)  Avg Net Stnd OD  Control  Allergic  Pazeo  Olopatadine\n",
              "0     10000.00           0.0305    0.125     0.134  0.107        0.117\n",
              "1      2500.00           0.0760    0.153     0.098  0.125        0.112\n",
              "2       625.00           0.1455    0.126     0.117  0.097        0.157\n",
              "3       156.25           0.1860    0.145     0.094  0.097        0.125\n",
              "4        39.06           0.2995    0.127     0.111  0.133        0.124"
            ]
          },
          "metadata": {
            "tags": []
          },
          "execution_count": 1
        }
      ]
    },
    {
      "cell_type": "code",
      "metadata": {
        "id": "xaiaOCznq-yu",
        "colab_type": "code",
        "colab": {}
      },
      "source": [
        "conc = data['conc(pg/mL)']\n",
        "od = data['Avg Net Stnd OD']\n",
        "alle = data['Allergic']\n",
        "paz = data['Pazeo']\n",
        "cntl = data['Control']\n",
        "olo = data['Olopatadine']\n",
        "\n",
        "alle_m = np.mean(alle)\n",
        "paz_m = np.mean(paz)\n",
        "cntl_m = np.mean(cntl)\n",
        "olo_m = np.mean(olo)"
      ],
      "execution_count": 0,
      "outputs": []
    },
    {
      "cell_type": "code",
      "metadata": {
        "id": "MNfdRn6frA9w",
        "colab_type": "code",
        "outputId": "ad5591a6-676f-4bb3-93d1-92002dcdfb6f",
        "colab": {
          "base_uri": "https://localhost:8080/",
          "height": 295
        }
      },
      "source": [
        "def logistic4(x, A, B, C, D):\n",
        "    \"\"\"4PL logistic equation.\"\"\"\n",
        "    return ((A-D)/(1.0+((x/C)**B))) + D\n",
        "\n",
        "def residuals(p, y, x):\n",
        "    \"\"\"Deviations of data from fitted 4PL curve\"\"\"\n",
        "    A,B,C,D = p\n",
        "    err = y-logistic4(x, A, B, C, D)\n",
        "    return err\n",
        "\n",
        "def peval(x, p):\n",
        "    \"\"\"Evaluated value at x with current parameters.\"\"\"\n",
        "    A,B,C,D = p\n",
        "    return logistic4(x, A, B, C, D)\n",
        "\n",
        "A,B,C,D = 0.29,0.79,504.9,0.01\n",
        "#A,B,C,D = 1,2,400,0.05\n",
        "y_true = logistic4(conc, A, B, C, D)\n",
        "\n",
        "# Initial guess for parameters\n",
        "p0 = [0, 1, 1, 1]\n",
        "\n",
        "# Fit equation using least squares optimization\n",
        "plsq = leastsq(residuals, p0, args=(od, conc))\n",
        "\n",
        "#Once A, B, C, D values have been found, run this function to determine concentration of your experimental\n",
        "def detconc(y, A, B, C, D):\n",
        "  return C*((A-D)/(y-D)-1**(1/B))\n",
        "\n",
        "Aconc = detconc(alle_m, A, B, C, D)\n",
        "pazconc = detconc(paz_m, A, B, C, D)\n",
        "Cconc = detconc(cntl_m, A, B, C, D)\n",
        "oloconc = detconc(olo_m, A, B, C, D)\n",
        "\n",
        "# Plot results\n",
        "#plt.plot(conc,peval(conc,plsq[0]),conc,od,'o',conc,y_true)\n",
        "plt.plot(conc,peval(conc,plsq[0]))\n",
        "plt.plot(conc,od,'o', label = '_nolegend_')\n",
        "plt.axhline(alle_m, color = 'r', linestyle = '--')\n",
        "plt.axhline(cntl_m, color = 'g', linestyle = '--')\n",
        "plt.axhline(paz_m, color = 'b', linestyle = '--')\n",
        "plt.axhline(olo_m, color = 'm', linestyle = '--')\n",
        "plt.title('Least-squares 4PL fit to ELISA Standard Curve')\n",
        "plt.xlabel('Substance P Concentration (pg/mL)')\n",
        "plt.ylabel('Average OD Value')\n",
        "\n",
        "#plt.legend(['Fit', 'Noisy', 'True'], loc='upper left')\n",
        "\n",
        "plt.legend(['Standard Curve Fit','Allergic 10x = (%0.2f, %0.2f)'%(Aconc,alle_m),'Control 10x = (%0.2f, %0.2f)'%(Cconc,cntl_m),'Pazeo 10x = (%0.2f, %0.2f)'%(pazconc,paz_m),'Olopatadine F127 10x = (%0.2f, %0.2f)'%(oloconc,olo_m)], loc='right')\n",
        "\n",
        "\"\"\"for i, (param, actual, est) in enumerate(zip('ABCD', [A,B,C,D], plsq[0])):\n",
        "    plt.text(10, 3-i*0.5, '%s = %.2f, est(%s) = %.2f' % (param, actual, param, est))\"\"\"\n",
        "plt.savefig('1029subp.png', dpi = 300)"
      ],
      "execution_count": 0,
      "outputs": [
        {
          "output_type": "display_data",
          "data": {
            "image/png": "[encoded data removed]",
            "text/plain": [
              "<Figure size 432x288 with 1 Axes>"
            ]
          },
          "metadata": {
            "tags": []
          }
        }
      ]
    },
    {
      "cell_type": "code",
      "metadata": {
        "id": "ZDldLPl9rP1H",
        "colab_type": "code",
        "outputId": "8ab23d1a-d06d-4d53-ce02-782a2242ad69",
        "colab": {
          "base_uri": "https://localhost:8080/",
          "height": 105
        }
      },
      "source": [
        "allec = []\n",
        "pazc = []\n",
        "cntlc = []\n",
        "oloc = []\n",
        "\n",
        "for i in range(len(alle)):\n",
        "  allec.append(detconc(alle[i],A,B,C,D))\n",
        "  pazc.append(detconc(paz[i],A,B,C,D))\n",
        "  cntlc.append(detconc(cntl[i],A,B,C,D))\n",
        "  oloc.append(detconc(olo[i],A,B,C,D))\n",
        "print(allec)\n",
        "print(pazc)\n",
        "print(cntlc)\n",
        "print(oloc)"
      ],
      "execution_count": 0,
      "outputs": [
        {
          "output_type": "stream",
          "text": [
            "[635.196774193548, 1101.5999999999997, 816.3336448598129, 1178.0999999999997, 894.8227722772274, 746.1796460176988, nan]\n",
            "[952.5432989690719, 724.4217391304346, 1120.0655172413792, 1120.0655172413792, 644.4658536585363, nan, nan]\n",
            "[724.4217391304346, 483.71538461538455, 713.8241379310342, 542.3, 703.4076923076921, 626.0759999999999, nan]\n",
            "[816.3336448598129, 881.1, 456.81428571428563, 724.4217391304346, 735.2052631578945, 792.090825688073, nan]\n"
          ],
          "name": "stdout"
        }
      ]
    },
    {
      "cell_type": "code",
      "metadata": {
        "id": "GfHQ3KmuIBlN",
        "colab_type": "code",
        "colab": {}
      },
      "source": [
        ""
      ],
      "execution_count": 0,
      "outputs": []
    }
  ]
}